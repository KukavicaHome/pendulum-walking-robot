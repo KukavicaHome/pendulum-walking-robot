import numpy as np
import matplotlib.pyplot as plt
import matplotlib.patches as patches
from matplotlib import animation
from IPython.display import HTML

# Konstante robota
trup_width = 1
trup_height = 10
glava_radius = 2.3
nadlaktica = 5.5
podlaktica = 5
saka = 1.5
natkoljenica = 5
potkoljenica = 5
stopalo = 2.5
frekvencija = 0.1

# Funkcija za izračunavanje krajnje tačke segmenta
def next_point(origin, length, angle_deg):
    angle_rad = np.radians(angle_deg)
    x = origin[0] + length * np.sin(angle_rad)
    y = origin[1] - length * np.cos(angle_rad)
    return (x, y)

# Setup figure
fig, ax = plt.subplots(figsize=(8, 6))
ax.set_aspect('equal')
ax.set_ylim(-15, 20)
ax.set_xlim(-5, 25)
plt.close()

# Elementi za animaciju (linije i oblici)
linije = [ax.plot([], [], c)[0] for c in ['b-', 'b-', 'b--', 'g-', 'g-', 'g--', 'b-', 'b-', 'b--', 'g-', 'g-', 'g--']]
glava = patches.Circle((0, 0), glava_radius, fill=False)
trup = patches.Rectangle((0, 0), trup_width, trup_height, fill=False)
ax.add_patch(glava)
ax.add_patch(trup)

# Funkcija koja ažurira svaki frejm
def update(frame):
    ax.set_xlim(-5 + frame * 0.1, 25 + frame * 0.1)
    trup_x = frame * 0.1
    faza = frame * frekvencija * 2 * np.pi
    step = np.sin(faza)
    amplitude = 25
    tilt = 5 * np.sin(faza)

    # Uglovi ekstremiteta
    uglovi = {
        'desna_ruka_rame': amplitude * step,
        'lijeva_ruka_rame': -amplitude * step,
        'desna_noga_kuk': amplitude * step,
        'desna_noga_koljeno': -10,
        'lijeva_noga_kuk': -amplitude * step,
        'lijeva_noga_koljeno': 10,
    }

    centar_x = trup_x + trup_width / 2
    rame = (centar_x, trup_height)
    kuk = (centar_x, 0)
    glava_center = (centar_x, trup_height + glava_radius)

    # Glava i trup
    glava.center = glava_center
    trup.set_xy((trup_x, 0))

    # Desna ruka (korigovana podlaktica)
    ld = next_point(rame, nadlaktica, uglovi['desna_ruka_rame'] + tilt)
    zd = next_point(ld, podlaktica, uglovi['desna_ruka_rame'] - 30 + tilt)
    sd = next_point(zd, saka, uglovi['desna_ruka_rame'] - 30 + tilt)

    # Lijeva ruka (korigovana podlaktica)
    ll = next_point(rame, nadlaktica, uglovi['lijeva_ruka_rame'] + tilt)
    zl = next_point(ll, podlaktica, uglovi['lijeva_ruka_rame'] + 30 + tilt)
    sl = next_point(zl, saka, uglovi['lijeva_ruka_rame'] + 30 + tilt)

    # Desna noga
    kd = next_point(kuk, natkoljenica, uglovi['desna_noga_kuk'] + tilt)
    gd = next_point(kd, potkoljenica, uglovi['desna_noga_kuk'] + uglovi['desna_noga_koljeno'] + tilt)
    sdg = (gd[0] + stopalo, gd[1])

    # Lijeva noga
    kl = next_point(kuk, natkoljenica, uglovi['lijeva_noga_kuk'] + tilt)
    gl_ = next_point(kl, potkoljenica, uglovi['lijeva_noga_kuk'] + uglovi['lijeva_noga_koljeno'] + tilt)
    slg = (gl_[0] + stopalo, gl_[1])

    # Postavljanje tačaka za linije
    podaci = [
        (rame, ld), (ld, zd), (zd, sd),     # desna ruka
        (rame, ll), (ll, zl), (zl, sl),     # lijeva ruka
        (kuk, kd), (kd, gd), (gd, sdg),     # desna noga
        (kuk, kl), (kl, gl_), (gl_, slg),   # lijeva noga
    ]

    for linija, (a, b) in zip(linije, podaci):
        linija.set_data([a[0], b[0]], [a[1], b[1]])

    return linije + [glava, trup]

# Pokretanje animacije
anim = animation.FuncAnimation(fig, update, frames=120, interval=60, blit=True)
HTML(anim.to_jshtml())
